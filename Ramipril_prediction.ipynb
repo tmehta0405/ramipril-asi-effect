{
 "cells": [
  {
   "cell_type": "code",
   "execution_count": 3,
   "id": "b91593b2-3153-4e6a-be23-4cecb6a58892",
   "metadata": {},
   "outputs": [],
   "source": [
    "# Get data from ChemBL database using API\n",
    "# CHEMBL1168 : Phase IV indications for cardiovascular disease, hypertension and coronary artery disease\n",
    "# CHEMBL221959 : Phase III indications for arthritis (chronic childhood and psoriatic) and ulcerative colitis, \n",
    "# and Phase IV indications for rheumatoid arthritis and immune system disease.\n",
    "# Chembl2736 : Vision related protein\n"
   ]
  },
  {
   "cell_type": "code",
   "execution_count": 5,
   "id": "5a20222d-da93-4ee9-bcec-c9da26e769e5",
   "metadata": {},
   "outputs": [
    {
     "name": "stdout",
     "output_type": "stream",
     "text": [
      "{'activities': [], 'page_meta': {'limit': 100, 'next': None, 'offset': 0, 'previous': None, 'total_count': 0}}\n"
     ]
    }
   ],
   "source": [
    "# import requests\n",
    "\n",
    "# # Define the endpoint for the ChEMBL API\n",
    "# url = \"https://www.ebi.ac.uk/chembl/api/data/activity.json\"\n",
    "\n",
    "# # Define the search parameters\n",
    "# params = {\n",
    "#     'target_chembl_id': 'CHEMBL1168',  # Replace with actual target ID for hypertension\n",
    "#     'limit': 100  # Number of results to return\n",
    "# }\n",
    "\n",
    "# # Send a request to the API\n",
    "# response = requests.get(url, params=params)\n",
    "\n",
    "# # Check if the request was successful\n",
    "# if response.status_code == 200:\n",
    "#     data = response.json()\n",
    "#     print(data)\n",
    "#     # Process the data (e.g., save to a file or analyze)\n",
    "# else:\n",
    "#     print(\"Failed to retrieve data\")\n"
   ]
  },
  {
   "cell_type": "code",
   "execution_count": 9,
   "id": "45e95529-13af-42a8-bcba-ad9df613547a",
   "metadata": {},
   "outputs": [
    {
     "name": "stdout",
     "output_type": "stream",
     "text": [
      "Failed to retrieve data\n"
     ]
    }
   ],
   "source": [
    "# import requests\n",
    "\n",
    "# # Define the endpoint for the ChEMBL API\n",
    "# url = \"https://www.ebi.ac.uk/chembl/api/data/target/CHEMBL1168.json\"\n",
    "\n",
    "# # Send a request to the API\n",
    "# response = requests.get(url)\n",
    "\n",
    "# # Check if the request was successful\n",
    "# if response.status_code == 200:\n",
    "#     data = response.json()\n",
    "#     # Print or process the data\n",
    "#     print(data)\n",
    "# else:\n",
    "#     print(\"Failed to retrieve data\")\n"
   ]
  },
  {
   "cell_type": "code",
   "execution_count": 13,
   "id": "1d2e54f1-3f71-481a-b962-5aca9128560a",
   "metadata": {},
   "outputs": [
    {
     "data": {
      "text/plain": [
       "\"\\nTo determine the role of the protein associated with CHEMBL1168 in high blood pressure, you'll need to look up the specific details of this target in the ChEMBL database. \\nThe protein’s role can often be inferred from its biological function, involvement in signaling pathways, or its relationship with drugs used to treat hypertension.\\n\\nCHEMBL1168 is the identifier for a compound, not a protein. In this case, CHEMBL1168 refers to Ramipril, which is an ACE inhibitor used in the treatment of \\nhigh blood pressure and heart failure.\\n\\nHere’s a quick breakdown:\\n\\nCHEMBL1168 (Ramipril): This is a small molecule drug or compound. It’s a medication used to treat high blood pressure and heart failure by inhibiting the \\nangiotensin-converting enzyme (ACE).\\n\\nProteins: In the ChEMBL database, proteins or targets are assigned different identifiers. For example, ACE (Angiotensin-Converting Enzyme) would have its \\nown distinct identifier in ChEMBL.\\n\\nTo clarify:\\n\\nCHEMBL1168: A compound (Ramipril).\\nACE: A protein or enzyme that Ramipril targets.\\n\\n\""
      ]
     },
     "execution_count": 13,
     "metadata": {},
     "output_type": "execute_result"
    }
   ],
   "source": [
    "\"\"\"\n",
    "To determine the role of the protein associated with CHEMBL1168 in high blood pressure, you'll need to look up the specific details of this target in the ChEMBL database. \n",
    "The protein’s role can often be inferred from its biological function, involvement in signaling pathways, or its relationship with drugs used to treat hypertension.\n",
    "\n",
    "CHEMBL1168 is the identifier for a compound, not a protein. In this case, CHEMBL1168 refers to Ramipril, which is an ACE inhibitor used in the treatment of \n",
    "high blood pressure and heart failure. \n",
    "compound = molecule name = molecule chembl id = smiles  are presenting single thing. \n",
    "\n",
    "Here’s a quick breakdown:\n",
    "\n",
    "CHEMBL1168 (Ramipril): This is a small molecule drug or compound. It’s a medication used to treat high blood pressure and heart failure by inhibiting the \n",
    "angiotensin-converting enzyme (ACE).\n",
    "\n",
    "Proteins: In the ChEMBL database, proteins or targets are assigned different identifiers. For example, ACE (Angiotensin-Converting Enzyme) would have its \n",
    "own distinct identifier in ChEMBL.\n",
    "\n",
    "To clarify:\n",
    "\n",
    "CHEMBL1168: A compound (Ramipril).\n",
    "ACE (Angiotensin-Converting Enzyme): A protein or enzyme that Ramipril targets.\n",
    "\n",
    "SMILES (Simplified Molecular Input Line Entry System) is a notation used to represent a chemical structure in a text format. For Ramipril, the SMILES \n",
    "notation describes its molecular structure in a compact string format.\n",
    "\n",
    "SMILES strings can be used to generate molecular descriptors or fingerprints, which are numerical representations of the chemical structure. These descriptors can be used \n",
    "in machine learning models to predict properties such as efficacy or side effects.\n",
    "\n",
    "ACE (Angiotensin-Converting Enzyme) is the target enzyme that Ramipril interacts with. The primary interest is to study how Ramipril affects ACE’s activity.\n",
    "\n",
    "Bioactivity Data: Provides metrics on how effectively Ramipril inhibits ACE, such as IC50 or Ki values.\n",
    "\n",
    "Assay Data: Details on the experimental methods used to assess the interaction between Ramipril and ACE.\n",
    "\n",
    "Target Summary: General information about ACE, which helps understand the biological context.\n",
    "\n",
    "## Bio Activity Measurements ####\n",
    "# IC50 (Half-Maximal Inhibitory Concentration)\n",
    "What It Is: The amount of Ramipril needed to reduce the activity of ACE by half.\n",
    "Simple Explanation: Imagine you want to reduce the activity of a machine by 50%. IC50 tells you how much of Ramipril you need to add to make that happen. If you need \n",
    "only a small amount of Ramipril to achieve this, it means Ramipril is very effective.\n",
    "\n",
    "# Ki (Inhibition Constant)\n",
    "What It Is: A measure of how strongly Ramipril sticks to ACE and prevents it from working.\n",
    "Simple Explanation: Think of Ki as a measure of how tightly Ramipril grabs onto ACE. Lower Ki means Ramipril holds onto ACE very tightly, making it better at \n",
    "stopping ACE from working.\n",
    "\n",
    "# EC50 (Half-Maximal Effective Concentration)\n",
    "What It Is: The amount of Ramipril needed to achieve half of its maximum effect.\n",
    "Simple Explanation: This tells you how much Ramipril you need to get halfway to its full impact. It’s useful to see how effective Ramipril can be at different amounts.\n",
    "\n",
    "## Assay Types\n",
    "# Enzymatic Assays\n",
    "What It Is: Tests that measure how Ramipril affects the activity of ACE.\n",
    "Simple Explanation: These tests show how well Ramipril works to slow down or stop ACE’s activity. It’s like checking how well a brake slows down a moving car.\n",
    "\n",
    "# Binding Assays\n",
    "What It Is: Tests that check how well Ramipril sticks to ACE.\n",
    "Simple Explanation: These tests measure how strongly Ramipril attaches to ACE. It’s like testing how strongly glue sticks to a surface. \n",
    "Stronger attachment means Ramipril is better at interacting with ACE.\n",
    "\n",
    "\"\"\""
   ]
  },
  {
   "cell_type": "code",
   "execution_count": null,
   "id": "af2c218c-6cf2-418e-bbe9-65b3cbb050c5",
   "metadata": {},
   "outputs": [],
   "source": [
    "\"\"\"\n",
    "When creating a machine learning model based on the bioactivity data for Ramipril and its interaction with ACE, you should define your objective based on what \n",
    "you want to predict or analyze. Here are some common objectives you could consider:\n",
    "\n",
    "1. Predicting Efficacy\n",
    "Objective: Predict how effective Ramipril will be as an ACE inhibitor based on its chemical properties.\n",
    "Details: Use the IC50 or EC50 values to train a model that predicts these values from various chemical features of Ramipril or similar compounds.\n",
    "\n",
    "2. Predicting Binding Affinity\n",
    "Objective: Predict how strongly Ramipril will bind to ACE.\n",
    "Details: Train a model using Ki values to predict the binding affinity of Ramipril from its chemical structure. This helps in understanding how well it can inhibit ACE.\n",
    "\n",
    "3. Classifying Compound Effectiveness\n",
    "Objective: Classify compounds into categories based on their effectiveness as ACE inhibitors.\n",
    "Details: Use IC50 or other activity metrics to classify compounds as \"highly effective,\" \"moderately effective,\" or \"low effectiveness.\" This can help in \n",
    "screening new compounds.\n",
    "\n",
    "4. Predicting Side Effects Based on Chemical Properties\n",
    "Objective: Predict potential side effects of Ramipril based on its chemical structure.\n",
    "Details: Use bioactivity and side effect data to build a model that predicts the likelihood of side effects. This may involve analyzing correlations between \n",
    "chemical features and known side effects.\n",
    "\n",
    "5. Feature Importance Analysis\n",
    "Objective: Identify which chemical properties are most important for Ramipril’s activity against ACE.\n",
    "Details: Train a model and analyze which features (e.g., molecular descriptors) contribute most to predicting IC50 or Ki values. This helps in understanding \n",
    "which aspects of the chemical structure are crucial for effectiveness.\n",
    "\n",
    "\"\"\""
   ]
  },
  {
   "cell_type": "code",
   "execution_count": null,
   "id": "7eaf1989-fa34-42d8-9dc7-d5ea0b860ec7",
   "metadata": {},
   "outputs": [],
   "source": [
    "\"\"\"\n",
    "Steps to Create the Model\n",
    "Data Collection\n",
    "\n",
    "1. Gather data on chemical properties (features) of Ramipril and other similar compounds.\n",
    "Collect bioactivity data such as IC50, Ki, and EC50 values.\n",
    "Feature Engineering\n",
    "\n",
    "2. Convert chemical properties into numerical features that can be used by machine learning models.\n",
    "Create molecular descriptors or fingerprints from SMILES strings.\n",
    "Model Selection\n",
    "\n",
    "3. Choose a suitable model based on your objective:\n",
    "Regression Models (e.g., Linear Regression, Random Forest Regressor) for predicting IC50, Ki, or EC50 values.\n",
    "Classification Models (e.g., Random Forest Classifier, Gradient Boosting Classifier) for classifying effectiveness.\n",
    "Feature Importance Models (e.g., Random Forest, Gradient Boosting) to understand which features are most important.\n",
    "Model Training and Evaluation\n",
    "\n",
    "4. Split your data into training and test sets.\n",
    "Train the model using the training data.\n",
    "Evaluate the model’s performance on the test data using metrics like Mean Squared Error (MSE) for regression or accuracy and F1-score for classification.\n",
    "Interpret Results\n",
    "\n",
    "5. Analyze the model’s predictions and performance.\n",
    "Use insights from the model to understand the relationship between chemical properties and bioactivity.\n",
    "\n",
    "\"\"\""
   ]
  },
  {
   "cell_type": "code",
   "execution_count": null,
   "id": "37af6d51-ba77-48c7-b498-6a2a49e8d217",
   "metadata": {},
   "outputs": [],
   "source": [
    "\"\"\" \n",
    "Example Objective\n",
    "If you want to predict the efficacy of Ramipril as an ACE inhibitor, you might:\n",
    "\n",
    "-Collect data on IC50 values for Ramipril and other ACE inhibitors.\n",
    "-Extract features from their chemical structures.\n",
    "-Train a regression model to predict IC50 values based on these features.\n",
    "-Evaluate how well your model can predict IC50 values and refine it based on the results.\n",
    "\"\"\"\n"
   ]
  },
  {
   "cell_type": "code",
   "execution_count": null,
   "id": "67f43a0c-ed00-48fd-87c7-081b510c9962",
   "metadata": {},
   "outputs": [],
   "source": [
    "#### Current Project objective ####\n",
    "\"\"\"\n",
    "To predict how effective Ramipril will be as an ACE inhibitor based on its chemical properties\n",
    "\n",
    "\"\"\""
   ]
  },
  {
   "cell_type": "code",
   "execution_count": 4,
   "id": "462dbac5-114c-48a5-9e2a-0f527a7b5fd5",
   "metadata": {},
   "outputs": [],
   "source": [
    "import pandas as pd\n",
    "import numpy as np\n",
    "from rdkit import Chem\n",
    "from rdkit.Chem import Descriptors\n",
    "from sklearn.model_selection import train_test_split\n",
    "from sklearn.ensemble import RandomForestClassifier\n",
    "from sklearn.metrics import accuracy_score, classification_report, confusion_matrix\n",
    "from sklearn.preprocessing import StandardScaler\n"
   ]
  },
  {
   "cell_type": "code",
   "execution_count": 8,
   "id": "98d70d1e-5a09-4f32-932f-98b50809ee42",
   "metadata": {},
   "outputs": [
    {
     "name": "stdout",
     "output_type": "stream",
     "text": [
      "    Molecule ChEMBL ID Molecule Name  Molecule Max Phase  Molecular Weight  \\\n",
      "0           CHEMBL1168      RAMIPRIL                   4            416.52   \n",
      "1           CHEMBL1168      RAMIPRIL                   4            416.52   \n",
      "2           CHEMBL1168      RAMIPRIL                   4            416.52   \n",
      "3           CHEMBL1168      RAMIPRIL                   4            416.52   \n",
      "4           CHEMBL1168      RAMIPRIL                   4            416.52   \n",
      "..                 ...           ...                 ...               ...   \n",
      "371         CHEMBL1168      RAMIPRIL                   4            416.52   \n",
      "372         CHEMBL1168      RAMIPRIL                   4            416.52   \n",
      "373         CHEMBL1168      RAMIPRIL                   4            416.52   \n",
      "374         CHEMBL1168      RAMIPRIL                   4            416.52   \n",
      "375         CHEMBL1168      RAMIPRIL                   4            416.52   \n",
      "\n",
      "     #RO5 Violations  AlogP Compound Key  \\\n",
      "0                  0   2.38     RAMIPRIL   \n",
      "1                  0   2.38     RAMIPRIL   \n",
      "2                  0   2.38     RAMIPRIL   \n",
      "3                  0   2.38     RAMIPRIL   \n",
      "4                  0   2.38     RAMIPRIL   \n",
      "..               ...    ...          ...   \n",
      "371                0   2.38     ramipril   \n",
      "372                0   2.38     ramipril   \n",
      "373                0   2.38     ramipril   \n",
      "374                0   2.38     ramipril   \n",
      "375                0   2.38     ramipril   \n",
      "\n",
      "                                                Smiles Standard Type  \\\n",
      "0    CCOC(=O)[C@H](CCc1ccccc1)N[C@@H](C)C(=O)N1[C@H...            Ki   \n",
      "1    CCOC(=O)[C@H](CCc1ccccc1)N[C@@H](C)C(=O)N1[C@H...            Ki   \n",
      "2    CCOC(=O)[C@H](CCc1ccccc1)N[C@@H](C)C(=O)N1[C@H...          IC50   \n",
      "3    CCOC(=O)[C@H](CCc1ccccc1)N[C@@H](C)C(=O)N1[C@H...            Ki   \n",
      "4    CCOC(=O)[C@H](CCc1ccccc1)N[C@@H](C)C(=O)N1[C@H...            Ki   \n",
      "..                                                 ...           ...   \n",
      "371  CCOC(=O)[C@H](CCc1ccccc1)N[C@@H](C)C(=O)N1[C@H...          AC50   \n",
      "372  CCOC(=O)[C@H](CCc1ccccc1)N[C@@H](C)C(=O)N1[C@H...          AC50   \n",
      "373  CCOC(=O)[C@H](CCc1ccccc1)N[C@@H](C)C(=O)N1[C@H...          AC50   \n",
      "374  CCOC(=O)[C@H](CCc1ccccc1)N[C@@H](C)C(=O)N1[C@H...          AC50   \n",
      "375  CCOC(=O)[C@H](CCc1ccccc1)N[C@@H](C)C(=O)N1[C@H...          AC50   \n",
      "\n",
      "    Standard Relation  ...     Target Type Document ChEMBL ID  Source ID  \\\n",
      "0                 NaN  ...  SINGLE PROTEIN      CHEMBL1909046         15   \n",
      "1                 NaN  ...  SINGLE PROTEIN      CHEMBL1909046         15   \n",
      "2                 NaN  ...  SINGLE PROTEIN      CHEMBL1909046         15   \n",
      "3                 NaN  ...       UNCHECKED      CHEMBL1909046         15   \n",
      "4                 NaN  ...  SINGLE PROTEIN      CHEMBL1909046         15   \n",
      "..                ...  ...             ...                ...        ...   \n",
      "371               '>'  ...  SINGLE PROTEIN      CHEMBL5291721          1   \n",
      "372               '>'  ...  SINGLE PROTEIN      CHEMBL5291721          1   \n",
      "373               '>'  ...  SINGLE PROTEIN      CHEMBL5291721          1   \n",
      "374               '>'  ...  SINGLE PROTEIN      CHEMBL5291721          1   \n",
      "375               '>'  ...  SINGLE PROTEIN      CHEMBL5291721          1   \n",
      "\n",
      "        Source Description Document Journal Document Year  Cell ChEMBL ID  \\\n",
      "0               DrugMatrix              NaN           NaN             NaN   \n",
      "1               DrugMatrix              NaN           NaN   CHEMBL3308072   \n",
      "2               DrugMatrix              NaN           NaN             NaN   \n",
      "3               DrugMatrix              NaN           NaN   CHEMBL3307715   \n",
      "4               DrugMatrix              NaN           NaN             NaN   \n",
      "..                     ...              ...           ...             ...   \n",
      "371  Scientific Literature       Nat Commun        2023.0             NaN   \n",
      "372  Scientific Literature       Nat Commun        2023.0             NaN   \n",
      "373  Scientific Literature       Nat Commun        2023.0             NaN   \n",
      "374  Scientific Literature       Nat Commun        2023.0             NaN   \n",
      "375  Scientific Literature       Nat Commun        2023.0             NaN   \n",
      "\n",
      "     Properties  Action Type  Standard Text Value  \n",
      "0           NaN          NaN                  NaN  \n",
      "1           NaN          NaN                  NaN  \n",
      "2           NaN          NaN                  NaN  \n",
      "3           NaN          NaN                  NaN  \n",
      "4           NaN          NaN                  NaN  \n",
      "..          ...          ...                  ...  \n",
      "371         NaN          NaN                  NaN  \n",
      "372         NaN          NaN                  NaN  \n",
      "373         NaN          NaN                  NaN  \n",
      "374         NaN          NaN                  NaN  \n",
      "375         NaN          NaN                  NaN  \n",
      "\n",
      "[376 rows x 47 columns]\n"
     ]
    }
   ],
   "source": [
    "# \n",
    "\n",
    "# Specify the filename of your CSV file\n",
    "# chembl1168 is ramipril id.\n",
    "# \n",
    "filename = 'ramipril_ac50_ki_ic50_data_new.csv'\n",
    "\n",
    "\n",
    "# Read the CSV file into a DataFrame using pandas.read_csv()\n",
    "# Specify 'header=0' to indicate the first row contains headers\n",
    "# df = pd.read_csv(filename, header=0)\n",
    "chembl_data = pd.read_csv(filename, header=0, encoding='Windows-1252')\n",
    "\n",
    "# Now you have the data in a DataFrame named 'df'\n",
    "# print(df)\n",
    "\n",
    "print(chembl_data)\n"
   ]
  },
  {
   "cell_type": "code",
   "execution_count": null,
   "id": "03b7b06c-ae17-461f-b086-5d59c657886d",
   "metadata": {},
   "outputs": [],
   "source": []
  },
  {
   "cell_type": "code",
   "execution_count": 3,
   "id": "ea1bfb8d-1913-42aa-abb7-825cb4d0fcf3",
   "metadata": {},
   "outputs": [
    {
     "ename": "NameError",
     "evalue": "name 'pd' is not defined",
     "output_type": "error",
     "traceback": [
      "\u001b[0;31m---------------------------------------------------------------------------\u001b[0m",
      "\u001b[0;31mNameError\u001b[0m                                 Traceback (most recent call last)",
      "Cell \u001b[0;32mIn[3], line 10\u001b[0m\n\u001b[1;32m      1\u001b[0m \u001b[38;5;66;03m# Step 1: Generate or load your dataset\u001b[39;00m\n\u001b[1;32m      2\u001b[0m \u001b[38;5;66;03m# Assuming chembl_data is a DataFrame with a column 'Molecule' containing RDKit Mol objects\u001b[39;00m\n\u001b[1;32m      3\u001b[0m \u001b[38;5;66;03m# For demonstration, let's create a sample chembl_data DataFrame with SMILES strings\u001b[39;00m\n\u001b[0;32m   (...)\u001b[0m\n\u001b[1;32m      6\u001b[0m \n\u001b[1;32m      7\u001b[0m \u001b[38;5;66;03m# \u001b[39;00m\n\u001b[1;32m      9\u001b[0m smiles_list \u001b[38;5;241m=\u001b[39m [\u001b[38;5;124m'\u001b[39m\u001b[38;5;124mCCOC(=O)[C@H](CCc1ccccc1)N[C@@H](C)C(=O)N1[C@H](C(=O)O)C[C@@H]2CCC[C@@H]21\u001b[39m\u001b[38;5;124m'\u001b[39m, \u001b[38;5;124m'\u001b[39m\u001b[38;5;124mCC(=O)N1CCC(C(=O)O)C1(C)C(=O)O\u001b[39m\u001b[38;5;124m'\u001b[39m, \u001b[38;5;124m'\u001b[39m\u001b[38;5;124mC1=CC=CC=C1C(=O)O\u001b[39m\u001b[38;5;124m'\u001b[39m]\n\u001b[0;32m---> 10\u001b[0m chembl_data \u001b[38;5;241m=\u001b[39m pd\u001b[38;5;241m.\u001b[39mDataFrame({\u001b[38;5;124m'\u001b[39m\u001b[38;5;124mMolecule\u001b[39m\u001b[38;5;124m'\u001b[39m: [Chem\u001b[38;5;241m.\u001b[39mMolFromSmiles(smiles) \u001b[38;5;28;01mfor\u001b[39;00m smiles \u001b[38;5;129;01min\u001b[39;00m smiles_list]})\n\u001b[1;32m     11\u001b[0m chembl_data\u001b[38;5;241m.\u001b[39mhead()\n",
      "\u001b[0;31mNameError\u001b[0m: name 'pd' is not defined"
     ]
    }
   ],
   "source": [
    "# Step 1: Generate or load your dataset\n",
    "# Assuming chembl_data is a DataFrame with a column 'Molecule' containing RDKit Mol objects\n",
    "# For demonstration, let's create a sample chembl_data DataFrame with SMILES strings\n",
    "# RAMIPRIL: CCOC(=O)[C@H](CCc1ccccc1)N[C@@H](C)C(=O)N1[C@H](C(=O)O)C[C@@H]2CCC[C@@H]21\n",
    "# ENALAPRIL: CCOC(=O)[C@H](CCc1ccccc1)N[C@@H](C)C(=O)N1CCC[C@H]1C(=O)O\n",
    "\n",
    "# \n",
    "\n",
    "smiles_list = ['CCOC(=O)[C@H](CCc1ccccc1)N[C@@H](C)C(=O)N1[C@H](C(=O)O)C[C@@H]2CCC[C@@H]21', 'CC(=O)N1CCC(C(=O)O)C1(C)C(=O)O', 'C1=CC=CC=C1C(=O)O']\n",
    "chembl_data = pd.DataFrame({'Molecule': [Chem.MolFromSmiles(smiles) for smiles in smiles_list]})\n",
    "chembl_data.head()\n",
    "\n"
   ]
  },
  {
   "cell_type": "code",
   "execution_count": null,
   "id": "bd06e862-0456-4db1-838a-1ddb48aee446",
   "metadata": {},
   "outputs": [],
   "source": [
    "# Step 2: Calculate molecular descriptors\n",
    "chembl_data['MolecularWeight'] = chembl_data['Molecule'].apply(Descriptors.MolWt)\n",
    "chembl_data['LogP'] = chembl_data['Molecule'].apply(Descriptors.MolLogP)\n",
    "chembl_data['NumHAcceptors'] = chembl_data['Molecule'].apply(Descriptors.NumHAcceptors)\n",
    "chembl_data['NumHDonors'] = chembl_data['Molecule'].apply(Descriptors.NumHDonors)\n",
    "\n"
   ]
  },
  {
   "cell_type": "code",
   "execution_count": null,
   "id": "7bcb9cf7-9b2f-416a-9d16-bda889647903",
   "metadata": {},
   "outputs": [],
   "source": [
    "# Step 3: Generate IC50, AC50, and Ki values (for demonstration, we will randomly generate them)\n",
    "np.random.seed(42)\n",
    "chembl_data['IC50'] = np.random.rand(len(chembl_data)) * 100  # in nM\n",
    "chembl_data['AC50'] = np.random.rand(len(chembl_data)) * 100  # in nM\n",
    "chembl_data['Ki'] = np.random.rand(len(chembl_data)) * 100     # in nM\n",
    "\n"
   ]
  },
  {
   "cell_type": "code",
   "execution_count": null,
   "id": "2a475b11-3f09-43b1-99df-0a47a6fd1239",
   "metadata": {},
   "outputs": [],
   "source": [
    "# Step 4: Define effectiveness based on some arbitrary conditions\n",
    "chembl_data['Effectiveness'] = ((chembl_data['IC50'] < 50) & (chembl_data['AC50'] < 50)).astype(int)\n",
    "\n"
   ]
  },
  {
   "cell_type": "code",
   "execution_count": null,
   "id": "eecd1fe0-60bf-45c4-bc09-2a948bb8aeb4",
   "metadata": {},
   "outputs": [],
   "source": [
    "# Step 5: Preprocess the data\n",
    "X = chembl_data[['MolecularWeight', 'LogP', 'NumHAcceptors', 'NumHDonors', 'IC50', 'AC50', 'Ki']]\n",
    "y = chembl_data['Effectiveness']\n",
    "\n"
   ]
  },
  {
   "cell_type": "code",
   "execution_count": null,
   "id": "99b6804b-db72-431d-b2ec-0707826522bd",
   "metadata": {},
   "outputs": [],
   "source": [
    "# Standardize the features\n",
    "scaler = StandardScaler()\n",
    "X_scaled = scaler.fit_transform(X)\n"
   ]
  },
  {
   "cell_type": "code",
   "execution_count": null,
   "id": "79c70a55-3b01-406d-8718-86f7fbbba41f",
   "metadata": {},
   "outputs": [],
   "source": [
    "# Step 6: Split the data into training and testing sets\n",
    "X_train, X_test, y_train, y_test = train_test_split(X_scaled, y, test_size=0.2, random_state=42)"
   ]
  },
  {
   "cell_type": "code",
   "execution_count": null,
   "id": "3015cd4b-c29d-4300-a207-144a41251ea2",
   "metadata": {},
   "outputs": [],
   "source": [
    "\n",
    "# Step 7: Train the model\n",
    "model = RandomForestClassifier(random_state=42)\n",
    "model.fit(X_train, y_train)"
   ]
  },
  {
   "cell_type": "code",
   "execution_count": null,
   "id": "d02ea740-0217-43e6-b011-fe6fa3957728",
   "metadata": {},
   "outputs": [],
   "source": [
    "# Step 9: Evaluate the model\n",
    "accuracy = accuracy_score(y_test, y_pred)\n",
    "conf_matrix = confusion_matrix(y_test, y_pred)\n",
    "class_report = classification_report(y_test, y_pred)\n",
    "\n",
    "print(\"Accuracy:\", accuracy)\n",
    "print(\"Confusion Matrix:\\n\", conf_matrix)\n",
    "print(\"Classification Report:\\n\", class_report)"
   ]
  }
 ],
 "metadata": {
  "kernelspec": {
   "display_name": "anaconda-panel-2023.05-py310",
   "language": "python",
   "name": "conda-env-anaconda-panel-2023.05-py310-py"
  },
  "language_info": {
   "codemirror_mode": {
    "name": "ipython",
    "version": 3
   },
   "file_extension": ".py",
   "mimetype": "text/x-python",
   "name": "python",
   "nbconvert_exporter": "python",
   "pygments_lexer": "ipython3",
   "version": "3.11.5"
  }
 },
 "nbformat": 4,
 "nbformat_minor": 5
}
